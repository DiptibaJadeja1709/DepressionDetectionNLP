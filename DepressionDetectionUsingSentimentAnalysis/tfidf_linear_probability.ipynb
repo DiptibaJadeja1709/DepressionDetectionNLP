{
 "cells": [
  {
   "cell_type": "code",
   "execution_count": 1,
   "id": "5ec85f50",
   "metadata": {},
   "outputs": [],
   "source": [
    "import pandas as pd\n",
    "import numpy as np\n",
    "import matplotlib.pyplot as plt\n",
    "import seaborn as sns\n",
    "import re\n",
    "import string\n",
    "import nltk\n",
    "import warnings\n",
    "%matplotlib inline\n",
    "warnings.filterwarnings(\"ignore\")"
   ]
  },
  {
   "cell_type": "code",
   "execution_count": 2,
   "id": "2e3570d4",
   "metadata": {},
   "outputs": [
    {
     "data": {
      "text/html": [
       "<div>\n",
       "<style scoped>\n",
       "    .dataframe tbody tr th:only-of-type {\n",
       "        vertical-align: middle;\n",
       "    }\n",
       "\n",
       "    .dataframe tbody tr th {\n",
       "        vertical-align: top;\n",
       "    }\n",
       "\n",
       "    .dataframe thead th {\n",
       "        text-align: right;\n",
       "    }\n",
       "</style>\n",
       "<table border=\"1\" class=\"dataframe\">\n",
       "  <thead>\n",
       "    <tr style=\"text-align: right;\">\n",
       "      <th></th>\n",
       "      <th>ID</th>\n",
       "      <th>Tweet</th>\n",
       "      <th>target</th>\n",
       "    </tr>\n",
       "  </thead>\n",
       "  <tbody>\n",
       "    <tr>\n",
       "      <th>0</th>\n",
       "      <td>1</td>\n",
       "      <td>Be happy. Be confident. Be kind.\\n\\n #Kissable...</td>\n",
       "      <td>0</td>\n",
       "    </tr>\n",
       "    <tr>\n",
       "      <th>1</th>\n",
       "      <td>2</td>\n",
       "      <td>@queenjlouise @mamaw_gereck awe thanks 😊</td>\n",
       "      <td>0</td>\n",
       "    </tr>\n",
       "    <tr>\n",
       "      <th>2</th>\n",
       "      <td>3</td>\n",
       "      <td>@Ithika Loving it! 😂</td>\n",
       "      <td>0</td>\n",
       "    </tr>\n",
       "    <tr>\n",
       "      <th>3</th>\n",
       "      <td>4</td>\n",
       "      <td>@mir_btc Eherium should make everybody happy</td>\n",
       "      <td>0</td>\n",
       "    </tr>\n",
       "    <tr>\n",
       "      <th>4</th>\n",
       "      <td>5</td>\n",
       "      <td>Shitty is the worst feeling ever #depressed #a...</td>\n",
       "      <td>1</td>\n",
       "    </tr>\n",
       "  </tbody>\n",
       "</table>\n",
       "</div>"
      ],
      "text/plain": [
       "   ID                                              Tweet  target\n",
       "0   1  Be happy. Be confident. Be kind.\\n\\n #Kissable...       0\n",
       "1   2           @queenjlouise @mamaw_gereck awe thanks 😊       0\n",
       "2   3                               @Ithika Loving it! 😂       0\n",
       "3   4       @mir_btc Eherium should make everybody happy       0\n",
       "4   5  Shitty is the worst feeling ever #depressed #a...       1"
      ]
     },
     "execution_count": 2,
     "metadata": {},
     "output_type": "execute_result"
    }
   ],
   "source": [
    "df = pd.read_csv(\"D:\\SentimentAnalysys\\good_tweets_combined_2.csv\")\n",
    "df.head()"
   ]
  },
  {
   "cell_type": "code",
   "execution_count": 3,
   "id": "84ea0364",
   "metadata": {},
   "outputs": [
    {
     "data": {
      "text/html": [
       "<div>\n",
       "<style scoped>\n",
       "    .dataframe tbody tr th:only-of-type {\n",
       "        vertical-align: middle;\n",
       "    }\n",
       "\n",
       "    .dataframe tbody tr th {\n",
       "        vertical-align: top;\n",
       "    }\n",
       "\n",
       "    .dataframe thead th {\n",
       "        text-align: right;\n",
       "    }\n",
       "</style>\n",
       "<table border=\"1\" class=\"dataframe\">\n",
       "  <thead>\n",
       "    <tr style=\"text-align: right;\">\n",
       "      <th></th>\n",
       "      <th>ID</th>\n",
       "      <th>Tweet</th>\n",
       "      <th>target</th>\n",
       "    </tr>\n",
       "  </thead>\n",
       "  <tbody>\n",
       "    <tr>\n",
       "      <th>0</th>\n",
       "      <td>1</td>\n",
       "      <td>Be happy. Be confident. Be kind.\\n\\n #Kissable...</td>\n",
       "      <td>0</td>\n",
       "    </tr>\n",
       "    <tr>\n",
       "      <th>1</th>\n",
       "      <td>2</td>\n",
       "      <td>@queenjlouise @mamaw_gereck awe thanks 😊</td>\n",
       "      <td>0</td>\n",
       "    </tr>\n",
       "    <tr>\n",
       "      <th>2</th>\n",
       "      <td>3</td>\n",
       "      <td>@Ithika Loving it! 😂</td>\n",
       "      <td>0</td>\n",
       "    </tr>\n",
       "    <tr>\n",
       "      <th>3</th>\n",
       "      <td>4</td>\n",
       "      <td>@mir_btc Eherium should make everybody happy</td>\n",
       "      <td>0</td>\n",
       "    </tr>\n",
       "    <tr>\n",
       "      <th>5</th>\n",
       "      <td>6</td>\n",
       "      <td>I didn't know, that there existed such sheer a...</td>\n",
       "      <td>0</td>\n",
       "    </tr>\n",
       "  </tbody>\n",
       "</table>\n",
       "</div>"
      ],
      "text/plain": [
       "   ID                                              Tweet  target\n",
       "0   1  Be happy. Be confident. Be kind.\\n\\n #Kissable...       0\n",
       "1   2           @queenjlouise @mamaw_gereck awe thanks 😊       0\n",
       "2   3                               @Ithika Loving it! 😂       0\n",
       "3   4       @mir_btc Eherium should make everybody happy       0\n",
       "5   6  I didn't know, that there existed such sheer a...       0"
      ]
     },
     "execution_count": 3,
     "metadata": {},
     "output_type": "execute_result"
    }
   ],
   "source": [
    "df[df['target']==0].head()"
   ]
  },
  {
   "cell_type": "code",
   "execution_count": 4,
   "id": "0294ea59",
   "metadata": {
    "scrolled": true
   },
   "outputs": [
    {
     "data": {
      "text/html": [
       "<div>\n",
       "<style scoped>\n",
       "    .dataframe tbody tr th:only-of-type {\n",
       "        vertical-align: middle;\n",
       "    }\n",
       "\n",
       "    .dataframe tbody tr th {\n",
       "        vertical-align: top;\n",
       "    }\n",
       "\n",
       "    .dataframe thead th {\n",
       "        text-align: right;\n",
       "    }\n",
       "</style>\n",
       "<table border=\"1\" class=\"dataframe\">\n",
       "  <thead>\n",
       "    <tr style=\"text-align: right;\">\n",
       "      <th></th>\n",
       "      <th>ID</th>\n",
       "      <th>Tweet</th>\n",
       "      <th>target</th>\n",
       "    </tr>\n",
       "  </thead>\n",
       "  <tbody>\n",
       "    <tr>\n",
       "      <th>4</th>\n",
       "      <td>5</td>\n",
       "      <td>Shitty is the worst feeling ever #depressed #a...</td>\n",
       "      <td>1</td>\n",
       "    </tr>\n",
       "    <tr>\n",
       "      <th>27</th>\n",
       "      <td>28</td>\n",
       "      <td>better care about yourself than about others b...</td>\n",
       "      <td>1</td>\n",
       "    </tr>\n",
       "    <tr>\n",
       "      <th>50</th>\n",
       "      <td>51</td>\n",
       "      <td>when you try your best but you don't suceed!!!...</td>\n",
       "      <td>1</td>\n",
       "    </tr>\n",
       "    <tr>\n",
       "      <th>65</th>\n",
       "      <td>66</td>\n",
       "      <td>It's #AmazonPrimeDay! And I'm #broke. So in re...</td>\n",
       "      <td>1</td>\n",
       "    </tr>\n",
       "    <tr>\n",
       "      <th>77</th>\n",
       "      <td>78</td>\n",
       "      <td>Mentally suffered #iwanttodie #worthless #life...</td>\n",
       "      <td>1</td>\n",
       "    </tr>\n",
       "  </tbody>\n",
       "</table>\n",
       "</div>"
      ],
      "text/plain": [
       "    ID                                              Tweet  target\n",
       "4    5  Shitty is the worst feeling ever #depressed #a...       1\n",
       "27  28  better care about yourself than about others b...       1\n",
       "50  51  when you try your best but you don't suceed!!!...       1\n",
       "65  66  It's #AmazonPrimeDay! And I'm #broke. So in re...       1\n",
       "77  78  Mentally suffered #iwanttodie #worthless #life...       1"
      ]
     },
     "execution_count": 4,
     "metadata": {},
     "output_type": "execute_result"
    }
   ],
   "source": [
    "df[df['target']==1].head()"
   ]
  },
  {
   "cell_type": "code",
   "execution_count": 5,
   "id": "7d8fdcb0",
   "metadata": {},
   "outputs": [],
   "source": [
    "#preprocessing\n",
    "\n",
    "\n",
    "#url is not done yet\n",
    "\n",
    "def remove_pattern(input_txt, pattern):\n",
    "    r = re.findall(pattern, input_txt)\n",
    "    for word in r:\n",
    "        input_txt = re.sub(word, \"\", input_txt)\n",
    "    return input_txt"
   ]
  },
  {
   "cell_type": "code",
   "execution_count": 6,
   "id": "84414ae4",
   "metadata": {},
   "outputs": [],
   "source": [
    "#remove twitter handles (@user)\n",
    "#vectorize means pass each row to the function and return\n",
    "df['clean_tweet'] = np.vectorize(remove_pattern)(df['Tweet'], \"@[\\w]*\")"
   ]
  },
  {
   "cell_type": "code",
   "execution_count": 7,
   "id": "9e8e75fe",
   "metadata": {},
   "outputs": [
    {
     "data": {
      "text/html": [
       "<div>\n",
       "<style scoped>\n",
       "    .dataframe tbody tr th:only-of-type {\n",
       "        vertical-align: middle;\n",
       "    }\n",
       "\n",
       "    .dataframe tbody tr th {\n",
       "        vertical-align: top;\n",
       "    }\n",
       "\n",
       "    .dataframe thead th {\n",
       "        text-align: right;\n",
       "    }\n",
       "</style>\n",
       "<table border=\"1\" class=\"dataframe\">\n",
       "  <thead>\n",
       "    <tr style=\"text-align: right;\">\n",
       "      <th></th>\n",
       "      <th>ID</th>\n",
       "      <th>Tweet</th>\n",
       "      <th>target</th>\n",
       "      <th>clean_tweet</th>\n",
       "    </tr>\n",
       "  </thead>\n",
       "  <tbody>\n",
       "    <tr>\n",
       "      <th>0</th>\n",
       "      <td>1</td>\n",
       "      <td>Be happy. Be confident. Be kind.\\n\\n #Kissable...</td>\n",
       "      <td>0</td>\n",
       "      <td>Be happy. Be confident. Be kind.\\n\\n #Kissable...</td>\n",
       "    </tr>\n",
       "    <tr>\n",
       "      <th>1</th>\n",
       "      <td>2</td>\n",
       "      <td>@queenjlouise @mamaw_gereck awe thanks 😊</td>\n",
       "      <td>0</td>\n",
       "      <td>awe thanks 😊</td>\n",
       "    </tr>\n",
       "    <tr>\n",
       "      <th>2</th>\n",
       "      <td>3</td>\n",
       "      <td>@Ithika Loving it! 😂</td>\n",
       "      <td>0</td>\n",
       "      <td>Loving it! 😂</td>\n",
       "    </tr>\n",
       "    <tr>\n",
       "      <th>3</th>\n",
       "      <td>4</td>\n",
       "      <td>@mir_btc Eherium should make everybody happy</td>\n",
       "      <td>0</td>\n",
       "      <td>Eherium should make everybody happy</td>\n",
       "    </tr>\n",
       "    <tr>\n",
       "      <th>4</th>\n",
       "      <td>5</td>\n",
       "      <td>Shitty is the worst feeling ever #depressed #a...</td>\n",
       "      <td>1</td>\n",
       "      <td>Shitty is the worst feeling ever #depressed #a...</td>\n",
       "    </tr>\n",
       "  </tbody>\n",
       "</table>\n",
       "</div>"
      ],
      "text/plain": [
       "   ID                                              Tweet  target  \\\n",
       "0   1  Be happy. Be confident. Be kind.\\n\\n #Kissable...       0   \n",
       "1   2           @queenjlouise @mamaw_gereck awe thanks 😊       0   \n",
       "2   3                               @Ithika Loving it! 😂       0   \n",
       "3   4       @mir_btc Eherium should make everybody happy       0   \n",
       "4   5  Shitty is the worst feeling ever #depressed #a...       1   \n",
       "\n",
       "                                         clean_tweet  \n",
       "0  Be happy. Be confident. Be kind.\\n\\n #Kissable...  \n",
       "1                                       awe thanks 😊  \n",
       "2                                       Loving it! 😂  \n",
       "3                Eherium should make everybody happy  \n",
       "4  Shitty is the worst feeling ever #depressed #a...  "
      ]
     },
     "execution_count": 7,
     "metadata": {},
     "output_type": "execute_result"
    }
   ],
   "source": [
    "df.head()"
   ]
  },
  {
   "cell_type": "code",
   "execution_count": 8,
   "id": "c2ddd831",
   "metadata": {},
   "outputs": [
    {
     "data": {
      "text/html": [
       "<div>\n",
       "<style scoped>\n",
       "    .dataframe tbody tr th:only-of-type {\n",
       "        vertical-align: middle;\n",
       "    }\n",
       "\n",
       "    .dataframe tbody tr th {\n",
       "        vertical-align: top;\n",
       "    }\n",
       "\n",
       "    .dataframe thead th {\n",
       "        text-align: right;\n",
       "    }\n",
       "</style>\n",
       "<table border=\"1\" class=\"dataframe\">\n",
       "  <thead>\n",
       "    <tr style=\"text-align: right;\">\n",
       "      <th></th>\n",
       "      <th>ID</th>\n",
       "      <th>Tweet</th>\n",
       "      <th>target</th>\n",
       "      <th>clean_tweet</th>\n",
       "    </tr>\n",
       "  </thead>\n",
       "  <tbody>\n",
       "    <tr>\n",
       "      <th>0</th>\n",
       "      <td>1</td>\n",
       "      <td>Be happy. Be confident. Be kind.\\n\\n #Kissable...</td>\n",
       "      <td>0</td>\n",
       "      <td>Be happy  Be confident  Be kind  n n #Kissable...</td>\n",
       "    </tr>\n",
       "    <tr>\n",
       "      <th>1</th>\n",
       "      <td>2</td>\n",
       "      <td>@queenjlouise @mamaw_gereck awe thanks 😊</td>\n",
       "      <td>0</td>\n",
       "      <td>awe thanks</td>\n",
       "    </tr>\n",
       "    <tr>\n",
       "      <th>2</th>\n",
       "      <td>3</td>\n",
       "      <td>@Ithika Loving it! 😂</td>\n",
       "      <td>0</td>\n",
       "      <td>Loving it</td>\n",
       "    </tr>\n",
       "    <tr>\n",
       "      <th>3</th>\n",
       "      <td>4</td>\n",
       "      <td>@mir_btc Eherium should make everybody happy</td>\n",
       "      <td>0</td>\n",
       "      <td>Eherium should make everybody happy</td>\n",
       "    </tr>\n",
       "    <tr>\n",
       "      <th>4</th>\n",
       "      <td>5</td>\n",
       "      <td>Shitty is the worst feeling ever #depressed #a...</td>\n",
       "      <td>1</td>\n",
       "      <td>Shitty is the worst feeling ever #depressed #a...</td>\n",
       "    </tr>\n",
       "  </tbody>\n",
       "</table>\n",
       "</div>"
      ],
      "text/plain": [
       "   ID                                              Tweet  target  \\\n",
       "0   1  Be happy. Be confident. Be kind.\\n\\n #Kissable...       0   \n",
       "1   2           @queenjlouise @mamaw_gereck awe thanks 😊       0   \n",
       "2   3                               @Ithika Loving it! 😂       0   \n",
       "3   4       @mir_btc Eherium should make everybody happy       0   \n",
       "4   5  Shitty is the worst feeling ever #depressed #a...       1   \n",
       "\n",
       "                                         clean_tweet  \n",
       "0  Be happy  Be confident  Be kind  n n #Kissable...  \n",
       "1                                       awe thanks    \n",
       "2                                       Loving it     \n",
       "3                Eherium should make everybody happy  \n",
       "4  Shitty is the worst feeling ever #depressed #a...  "
      ]
     },
     "execution_count": 8,
     "metadata": {},
     "output_type": "execute_result"
    }
   ],
   "source": [
    "#remove special characters, numbers and punctuations\n",
    "df['clean_tweet'] = df['clean_tweet'].str.replace(\"[^a-zA-Z#]\", \" \")\n",
    "df.head()"
   ]
  },
  {
   "cell_type": "code",
   "execution_count": 9,
   "id": "a975c2bb",
   "metadata": {},
   "outputs": [
    {
     "data": {
      "text/html": [
       "<div>\n",
       "<style scoped>\n",
       "    .dataframe tbody tr th:only-of-type {\n",
       "        vertical-align: middle;\n",
       "    }\n",
       "\n",
       "    .dataframe tbody tr th {\n",
       "        vertical-align: top;\n",
       "    }\n",
       "\n",
       "    .dataframe thead th {\n",
       "        text-align: right;\n",
       "    }\n",
       "</style>\n",
       "<table border=\"1\" class=\"dataframe\">\n",
       "  <thead>\n",
       "    <tr style=\"text-align: right;\">\n",
       "      <th></th>\n",
       "      <th>ID</th>\n",
       "      <th>Tweet</th>\n",
       "      <th>target</th>\n",
       "      <th>clean_tweet</th>\n",
       "    </tr>\n",
       "  </thead>\n",
       "  <tbody>\n",
       "    <tr>\n",
       "      <th>0</th>\n",
       "      <td>1</td>\n",
       "      <td>Be happy. Be confident. Be kind.\\n\\n #Kissable...</td>\n",
       "      <td>0</td>\n",
       "      <td>happy confident kind #KissablesLoveSMShopmag n...</td>\n",
       "    </tr>\n",
       "    <tr>\n",
       "      <th>1</th>\n",
       "      <td>2</td>\n",
       "      <td>@queenjlouise @mamaw_gereck awe thanks 😊</td>\n",
       "      <td>0</td>\n",
       "      <td>thanks</td>\n",
       "    </tr>\n",
       "    <tr>\n",
       "      <th>2</th>\n",
       "      <td>3</td>\n",
       "      <td>@Ithika Loving it! 😂</td>\n",
       "      <td>0</td>\n",
       "      <td>Loving</td>\n",
       "    </tr>\n",
       "    <tr>\n",
       "      <th>3</th>\n",
       "      <td>4</td>\n",
       "      <td>@mir_btc Eherium should make everybody happy</td>\n",
       "      <td>0</td>\n",
       "      <td>Eherium should make everybody happy</td>\n",
       "    </tr>\n",
       "    <tr>\n",
       "      <th>4</th>\n",
       "      <td>5</td>\n",
       "      <td>Shitty is the worst feeling ever #depressed #a...</td>\n",
       "      <td>1</td>\n",
       "      <td>Shitty worst feeling ever #depressed #anxiety</td>\n",
       "    </tr>\n",
       "  </tbody>\n",
       "</table>\n",
       "</div>"
      ],
      "text/plain": [
       "   ID                                              Tweet  target  \\\n",
       "0   1  Be happy. Be confident. Be kind.\\n\\n #Kissable...       0   \n",
       "1   2           @queenjlouise @mamaw_gereck awe thanks 😊       0   \n",
       "2   3                               @Ithika Loving it! 😂       0   \n",
       "3   4       @mir_btc Eherium should make everybody happy       0   \n",
       "4   5  Shitty is the worst feeling ever #depressed #a...       1   \n",
       "\n",
       "                                         clean_tweet  \n",
       "0  happy confident kind #KissablesLoveSMShopmag n...  \n",
       "1                                             thanks  \n",
       "2                                             Loving  \n",
       "3                Eherium should make everybody happy  \n",
       "4      Shitty worst feeling ever #depressed #anxiety  "
      ]
     },
     "execution_count": 9,
     "metadata": {},
     "output_type": "execute_result"
    }
   ],
   "source": [
    "#remove short words\n",
    "#if length is more than 3 then it will be added to string otherwise it will be ignored\n",
    "df['clean_tweet'] = df['clean_tweet'].apply(lambda x: \" \".join([w for w in x.split() if len(w)>3]))\n",
    "df.head()"
   ]
  },
  {
   "cell_type": "code",
   "execution_count": 10,
   "id": "e871724c",
   "metadata": {},
   "outputs": [
    {
     "data": {
      "text/plain": [
       "0    [happy, confident, kind, #KissablesLoveSMShopm...\n",
       "1                                             [thanks]\n",
       "2                                             [Loving]\n",
       "3            [Eherium, should, make, everybody, happy]\n",
       "4    [Shitty, worst, feeling, ever, #depressed, #an...\n",
       "Name: clean_tweet, dtype: object"
      ]
     },
     "execution_count": 10,
     "metadata": {},
     "output_type": "execute_result"
    }
   ],
   "source": [
    "#tokenization (individual word called tokens)\n",
    "tokenized_tweet = df['clean_tweet'].apply(lambda x: x.split())\n",
    "tokenized_tweet.head()"
   ]
  },
  {
   "cell_type": "code",
   "execution_count": 11,
   "id": "3a5105aa",
   "metadata": {},
   "outputs": [
    {
     "data": {
      "text/plain": [
       "0    [happi, confid, kind, #kissableslovesmshopmag,...\n",
       "1                                              [thank]\n",
       "2                                               [love]\n",
       "3            [eherium, should, make, everybodi, happi]\n",
       "4      [shitti, worst, feel, ever, #depress, #anxieti]\n",
       "Name: clean_tweet, dtype: object"
      ]
     },
     "execution_count": 11,
     "metadata": {},
     "output_type": "execute_result"
    }
   ],
   "source": [
    "#stem the words\n",
    "from nltk.stem.porter import PorterStemmer\n",
    "stemmer = PorterStemmer()\n",
    "\n",
    "tokenized_tweet = tokenized_tweet.apply(lambda sentence: [stemmer.stem(word) for word in sentence])\n",
    "tokenized_tweet.head()"
   ]
  },
  {
   "cell_type": "code",
   "execution_count": 12,
   "id": "4cd14a49",
   "metadata": {},
   "outputs": [
    {
     "data": {
      "text/html": [
       "<div>\n",
       "<style scoped>\n",
       "    .dataframe tbody tr th:only-of-type {\n",
       "        vertical-align: middle;\n",
       "    }\n",
       "\n",
       "    .dataframe tbody tr th {\n",
       "        vertical-align: top;\n",
       "    }\n",
       "\n",
       "    .dataframe thead th {\n",
       "        text-align: right;\n",
       "    }\n",
       "</style>\n",
       "<table border=\"1\" class=\"dataframe\">\n",
       "  <thead>\n",
       "    <tr style=\"text-align: right;\">\n",
       "      <th></th>\n",
       "      <th>ID</th>\n",
       "      <th>Tweet</th>\n",
       "      <th>target</th>\n",
       "      <th>clean_tweet</th>\n",
       "    </tr>\n",
       "  </thead>\n",
       "  <tbody>\n",
       "    <tr>\n",
       "      <th>0</th>\n",
       "      <td>1</td>\n",
       "      <td>Be happy. Be confident. Be kind.\\n\\n #Kissable...</td>\n",
       "      <td>0</td>\n",
       "      <td>happi confid kind #kissableslovesmshopmag nall...</td>\n",
       "    </tr>\n",
       "    <tr>\n",
       "      <th>1</th>\n",
       "      <td>2</td>\n",
       "      <td>@queenjlouise @mamaw_gereck awe thanks 😊</td>\n",
       "      <td>0</td>\n",
       "      <td>thank</td>\n",
       "    </tr>\n",
       "    <tr>\n",
       "      <th>2</th>\n",
       "      <td>3</td>\n",
       "      <td>@Ithika Loving it! 😂</td>\n",
       "      <td>0</td>\n",
       "      <td>love</td>\n",
       "    </tr>\n",
       "    <tr>\n",
       "      <th>3</th>\n",
       "      <td>4</td>\n",
       "      <td>@mir_btc Eherium should make everybody happy</td>\n",
       "      <td>0</td>\n",
       "      <td>eherium should make everybodi happi</td>\n",
       "    </tr>\n",
       "    <tr>\n",
       "      <th>4</th>\n",
       "      <td>5</td>\n",
       "      <td>Shitty is the worst feeling ever #depressed #a...</td>\n",
       "      <td>1</td>\n",
       "      <td>shitti worst feel ever #depress #anxieti</td>\n",
       "    </tr>\n",
       "  </tbody>\n",
       "</table>\n",
       "</div>"
      ],
      "text/plain": [
       "   ID                                              Tweet  target  \\\n",
       "0   1  Be happy. Be confident. Be kind.\\n\\n #Kissable...       0   \n",
       "1   2           @queenjlouise @mamaw_gereck awe thanks 😊       0   \n",
       "2   3                               @Ithika Loving it! 😂       0   \n",
       "3   4       @mir_btc Eherium should make everybody happy       0   \n",
       "4   5  Shitty is the worst feeling ever #depressed #a...       1   \n",
       "\n",
       "                                         clean_tweet  \n",
       "0  happi confid kind #kissableslovesmshopmag nall...  \n",
       "1                                              thank  \n",
       "2                                               love  \n",
       "3                eherium should make everybodi happi  \n",
       "4           shitti worst feel ever #depress #anxieti  "
      ]
     },
     "execution_count": 12,
     "metadata": {},
     "output_type": "execute_result"
    }
   ],
   "source": [
    "#combine all words into sentence\n",
    "for i in range(len(tokenized_tweet)):\n",
    "    tokenized_tweet[i] = \" \".join(tokenized_tweet[i])\n",
    "    \n",
    "df['clean_tweet'] = tokenized_tweet\n",
    "df.head()"
   ]
  },
  {
   "cell_type": "code",
   "execution_count": 13,
   "id": "49f28773",
   "metadata": {},
   "outputs": [],
   "source": [
    "from nltk.corpus import stopwords"
   ]
  },
  {
   "cell_type": "code",
   "execution_count": 14,
   "id": "d04e5b9b",
   "metadata": {},
   "outputs": [],
   "source": [
    "#print(set(stopwords.words('english')))"
   ]
  },
  {
   "cell_type": "code",
   "execution_count": 15,
   "id": "a0216952",
   "metadata": {},
   "outputs": [],
   "source": [
    "stop_words = set(stopwords.words('english'))"
   ]
  },
  {
   "cell_type": "code",
   "execution_count": 16,
   "id": "e4b93a99",
   "metadata": {},
   "outputs": [],
   "source": [
    "df['clean_tweet'] = df['clean_tweet'].apply(lambda x : ' '.join([w for w in x.split() if not w in stop_words]))"
   ]
  },
  {
   "cell_type": "code",
   "execution_count": 17,
   "id": "67184d64",
   "metadata": {},
   "outputs": [
    {
     "data": {
      "text/html": [
       "<div>\n",
       "<style scoped>\n",
       "    .dataframe tbody tr th:only-of-type {\n",
       "        vertical-align: middle;\n",
       "    }\n",
       "\n",
       "    .dataframe tbody tr th {\n",
       "        vertical-align: top;\n",
       "    }\n",
       "\n",
       "    .dataframe thead th {\n",
       "        text-align: right;\n",
       "    }\n",
       "</style>\n",
       "<table border=\"1\" class=\"dataframe\">\n",
       "  <thead>\n",
       "    <tr style=\"text-align: right;\">\n",
       "      <th></th>\n",
       "      <th>ID</th>\n",
       "      <th>Tweet</th>\n",
       "      <th>target</th>\n",
       "      <th>clean_tweet</th>\n",
       "    </tr>\n",
       "  </thead>\n",
       "  <tbody>\n",
       "    <tr>\n",
       "      <th>0</th>\n",
       "      <td>1</td>\n",
       "      <td>Be happy. Be confident. Be kind.\\n\\n #Kissable...</td>\n",
       "      <td>0</td>\n",
       "      <td>happi confid kind #kissableslovesmshopmag nall...</td>\n",
       "    </tr>\n",
       "    <tr>\n",
       "      <th>1</th>\n",
       "      <td>2</td>\n",
       "      <td>@queenjlouise @mamaw_gereck awe thanks 😊</td>\n",
       "      <td>0</td>\n",
       "      <td>thank</td>\n",
       "    </tr>\n",
       "    <tr>\n",
       "      <th>2</th>\n",
       "      <td>3</td>\n",
       "      <td>@Ithika Loving it! 😂</td>\n",
       "      <td>0</td>\n",
       "      <td>love</td>\n",
       "    </tr>\n",
       "    <tr>\n",
       "      <th>3</th>\n",
       "      <td>4</td>\n",
       "      <td>@mir_btc Eherium should make everybody happy</td>\n",
       "      <td>0</td>\n",
       "      <td>eherium make everybodi happi</td>\n",
       "    </tr>\n",
       "    <tr>\n",
       "      <th>4</th>\n",
       "      <td>5</td>\n",
       "      <td>Shitty is the worst feeling ever #depressed #a...</td>\n",
       "      <td>1</td>\n",
       "      <td>shitti worst feel ever #depress #anxieti</td>\n",
       "    </tr>\n",
       "  </tbody>\n",
       "</table>\n",
       "</div>"
      ],
      "text/plain": [
       "   ID                                              Tweet  target  \\\n",
       "0   1  Be happy. Be confident. Be kind.\\n\\n #Kissable...       0   \n",
       "1   2           @queenjlouise @mamaw_gereck awe thanks 😊       0   \n",
       "2   3                               @Ithika Loving it! 😂       0   \n",
       "3   4       @mir_btc Eherium should make everybody happy       0   \n",
       "4   5  Shitty is the worst feeling ever #depressed #a...       1   \n",
       "\n",
       "                                         clean_tweet  \n",
       "0  happi confid kind #kissableslovesmshopmag nall...  \n",
       "1                                              thank  \n",
       "2                                               love  \n",
       "3                       eherium make everybodi happi  \n",
       "4           shitti worst feel ever #depress #anxieti  "
      ]
     },
     "execution_count": 17,
     "metadata": {},
     "output_type": "execute_result"
    }
   ],
   "source": [
    "df.head()"
   ]
  },
  {
   "cell_type": "code",
   "execution_count": 18,
   "id": "aa0ccddc",
   "metadata": {},
   "outputs": [],
   "source": [
    "#visulization"
   ]
  },
  {
   "cell_type": "code",
   "execution_count": 19,
   "id": "edbaf018",
   "metadata": {},
   "outputs": [
    {
     "data": {
      "text/plain": [
       "(4391, 4)"
      ]
     },
     "execution_count": 19,
     "metadata": {},
     "output_type": "execute_result"
    }
   ],
   "source": [
    "df.shape #number of (raws, columns)"
   ]
  },
  {
   "cell_type": "code",
   "execution_count": 20,
   "id": "bf7bc951",
   "metadata": {},
   "outputs": [],
   "source": [
    "#tfifd"
   ]
  },
  {
   "cell_type": "code",
   "execution_count": 21,
   "id": "c105066a",
   "metadata": {},
   "outputs": [],
   "source": [
    "from sklearn.feature_extraction.text import TfidfVectorizer"
   ]
  },
  {
   "cell_type": "code",
   "execution_count": 22,
   "id": "f8606111",
   "metadata": {},
   "outputs": [],
   "source": [
    "tfidf_vectorizer = TfidfVectorizer(max_df = 0.9 , min_df = 2 , stop_words = 'english' , max_features = 2000)\n",
    "dff = tfidf_vectorizer.fit_transform(df['clean_tweet'])"
   ]
  },
  {
   "cell_type": "code",
   "execution_count": 23,
   "id": "37e247ed",
   "metadata": {},
   "outputs": [
    {
     "data": {
      "text/plain": [
       "(4391, 2000)"
      ]
     },
     "execution_count": 23,
     "metadata": {},
     "output_type": "execute_result"
    }
   ],
   "source": [
    "dff.shape"
   ]
  },
  {
   "cell_type": "code",
   "execution_count": 24,
   "id": "bb9509a1",
   "metadata": {},
   "outputs": [],
   "source": [
    "#train_x = dff[:3300 , :]\n",
    "#test_x = dff[3300: , :]"
   ]
  },
  {
   "cell_type": "code",
   "execution_count": 28,
   "id": "da9cbca9",
   "metadata": {},
   "outputs": [],
   "source": [
    "#train_y = df['target'][:3300]\n",
    "#test_y = df['target'][3300:]\n",
    "\n",
    "X = dff\n",
    "Y = df['target']"
   ]
  },
  {
   "cell_type": "code",
   "execution_count": 29,
   "id": "d802c524",
   "metadata": {},
   "outputs": [
    {
     "name": "stdout",
     "output_type": "stream",
     "text": [
      "(3512, 2000) (3512,)\n",
      "(879, 2000) (879,)\n"
     ]
    }
   ],
   "source": [
    "from sklearn.model_selection import train_test_split\n",
    "\n",
    "#train_y = Y[:3300]\n",
    "#test_y = Y[3300:]\n",
    "X_train, X_test, Y_train, Y_test = train_test_split(dff,df['target'], test_size = 0.20, random_state = 40)\n",
    "print(X_train.shape,Y_train.shape)\n",
    "print(X_test.shape,Y_test.shape)"
   ]
  },
  {
   "cell_type": "code",
   "execution_count": 30,
   "id": "52bd53ed",
   "metadata": {},
   "outputs": [],
   "source": [
    "from sklearn.linear_model import LogisticRegression\n",
    "lr = LogisticRegression()\n",
    "lr.fit(X_train , Y_train)\n",
    "pred = lr.predict(X)"
   ]
  },
  {
   "cell_type": "code",
   "execution_count": 31,
   "id": "8c3262c2",
   "metadata": {},
   "outputs": [
    {
     "data": {
      "text/plain": [
       "array([[3425,  572],\n",
       "       [  63,  331]], dtype=int64)"
      ]
     },
     "execution_count": 31,
     "metadata": {},
     "output_type": "execute_result"
    }
   ],
   "source": [
    "from sklearn import metrics\n",
    "metrics.confusion_matrix(pred , Y)"
   ]
  },
  {
   "cell_type": "code",
   "execution_count": 32,
   "id": "0c38529b",
   "metadata": {},
   "outputs": [
    {
     "data": {
      "text/plain": [
       "0.8553860168526531"
      ]
     },
     "execution_count": 32,
     "metadata": {},
     "output_type": "execute_result"
    }
   ],
   "source": [
    "metrics.accuracy_score(pred , Y)"
   ]
  },
  {
   "cell_type": "code",
   "execution_count": 33,
   "id": "923fc75a",
   "metadata": {},
   "outputs": [
    {
     "name": "stdout",
     "output_type": "stream",
     "text": [
      "              precision    recall  f1-score   support\n",
      "\n",
      "           0       0.98      0.86      0.92      3997\n",
      "           1       0.37      0.84      0.51       394\n",
      "\n",
      "    accuracy                           0.86      4391\n",
      "   macro avg       0.67      0.85      0.71      4391\n",
      "weighted avg       0.93      0.86      0.88      4391\n",
      "\n"
     ]
    }
   ],
   "source": [
    "print(metrics.classification_report(pred , Y))"
   ]
  },
  {
   "cell_type": "markdown",
   "id": "d380c21a",
   "metadata": {},
   "source": []
  },
  {
   "cell_type": "code",
   "execution_count": 34,
   "id": "b8f73da7",
   "metadata": {},
   "outputs": [
    {
     "name": "stdout",
     "output_type": "stream",
     "text": [
      "[[3399  495]\n",
      " [  89  408]]\n"
     ]
    }
   ],
   "source": [
    "from sklearn.preprocessing import binarize\n",
    "y_prob=lr.predict_proba(X)[:,1]\n",
    "pred1=binarize([y_prob],0.45)[0]\n",
    "print(metrics.confusion_matrix(pred1,Y))"
   ]
  },
  {
   "cell_type": "code",
   "execution_count": 35,
   "id": "bb2cd2a5",
   "metadata": {},
   "outputs": [
    {
     "data": {
      "text/plain": [
       "0.8670006832156684"
      ]
     },
     "execution_count": 35,
     "metadata": {},
     "output_type": "execute_result"
    }
   ],
   "source": [
    "metrics.accuracy_score(pred1 , Y)"
   ]
  },
  {
   "cell_type": "code",
   "execution_count": 36,
   "id": "6b07c804",
   "metadata": {
    "scrolled": true
   },
   "outputs": [
    {
     "name": "stdout",
     "output_type": "stream",
     "text": [
      "              precision    recall  f1-score   support\n",
      "\n",
      "         0.0       0.97      0.87      0.92      3894\n",
      "         1.0       0.45      0.82      0.58       497\n",
      "\n",
      "    accuracy                           0.87      4391\n",
      "   macro avg       0.71      0.85      0.75      4391\n",
      "weighted avg       0.92      0.87      0.88      4391\n",
      "\n"
     ]
    }
   ],
   "source": [
    "print(metrics.classification_report(pred1 , Y))"
   ]
  },
  {
   "cell_type": "code",
   "execution_count": 34,
   "id": "d15199ae",
   "metadata": {},
   "outputs": [],
   "source": [
    "#def preproforsentence(text):\n",
    "#    ans = lr.predict(text)\n",
    "#    return ans\"\"\""
   ]
  },
  {
   "cell_type": "code",
   "execution_count": 35,
   "id": "fa59a92d",
   "metadata": {},
   "outputs": [],
   "source": [
    "#res = preproforsentence(\"depression hate life sadness\")\n",
    "#print(res)"
   ]
  },
  {
   "cell_type": "code",
   "execution_count": null,
   "id": "bee8b0a3",
   "metadata": {},
   "outputs": [],
   "source": []
  }
 ],
 "metadata": {
  "kernelspec": {
   "display_name": "Python 3",
   "language": "python",
   "name": "python3"
  },
  "language_info": {
   "codemirror_mode": {
    "name": "ipython",
    "version": 3
   },
   "file_extension": ".py",
   "mimetype": "text/x-python",
   "name": "python",
   "nbconvert_exporter": "python",
   "pygments_lexer": "ipython3",
   "version": "3.8.8"
  }
 },
 "nbformat": 4,
 "nbformat_minor": 5
}
