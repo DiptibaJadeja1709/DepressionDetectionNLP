{
 "cells": [
  {
   "cell_type": "code",
   "execution_count": null,
   "metadata": {
    "id": "OGIbdDVbvMvr",
    "scrolled": true
   },
   "outputs": [],
   "source": [
    "#!pip install pyngrok\n",
    "\n",
    "#!pip install streamlit\n",
    "\n",
    "#!pip install streamlit_ace"
   ]
  },
  {
   "cell_type": "code",
   "execution_count": 1,
   "metadata": {
    "colab": {
     "base_uri": "https://localhost:8080/"
    },
    "id": "o1-7PGKUvc1j",
    "outputId": "f3b6229e-6332-4298-ef4a-d6cabf781e20"
   },
   "outputs": [
    {
     "name": "stdout",
     "output_type": "stream",
     "text": [
      "Overwriting app.py\n"
     ]
    }
   ],
   "source": [
    "%%writefile app.py\n",
    " \n",
    "#import pickle\n",
    "import streamlit as st\n",
    "from keras.models import load_model as lm\n",
    "# loading the trained model\n",
    "model1 = lm('PlzGod.h5')\n",
    " \n",
    "#@st.cache()\n",
    "  \n",
    "def teachable_machine_classification(TweetText):\n",
    "    \n",
    "    onehot_repr=[one_hot(words,5000)for words in TweetText]\n",
    "    embedded_doc = pad_sequences(onehot_repr , padding = 'pre' , maxlen = 35)\n",
    "    Xt = np.array(embedded_doc)\n",
    "    res =model.predict(Xt)\n",
    "    \n",
    "    return res\n",
    "\n",
    "\n",
    "st.title('Whats your mood')\n",
    "TweetText = st.text_input(\"Tweet\")\n",
    "TweetText = [TweetText]\n",
    "\n",
    "if TweetText is not None:\n",
    "    st.write(TweetText)\n",
    "    label=teachable_machine_classification(TweetText)\n",
    "    st.write(label)\n",
    "    \n",
    "    \n",
    "    st.button('Press')"
   ]
  },
  {
   "cell_type": "code",
   "execution_count": 2,
   "metadata": {
    "id": "nZWHmktxPCOO"
   },
   "outputs": [],
   "source": [
    "#!pip3 install --upgrade jupyter_http_over_ws>=0.0.7 "
   ]
  },
  {
   "cell_type": "code",
   "execution_count": null,
   "metadata": {
    "id": "oLBh_utUzPG9"
   },
   "outputs": [],
   "source": [
    "#import os\n",
    "#!streamlit run app.py &>/dev/null&\n",
    "#!streamlit run --server.port 80 app.py &>/dev/null&\n",
    "#os.system(\"python app.py runserver\")\n",
    "#streamlit run app"
   ]
  },
  {
   "cell_type": "code",
   "execution_count": null,
   "metadata": {
    "id": "ZKwbJY5OzRTW"
   },
   "outputs": [],
   "source": [
    "#from pyngrok import ngrok\n",
    " \n",
    "#public_url = ngrok.connect('8501')\n",
    "#public_url\n",
    "\n",
    "#!pip install pyngrok --quiet\n",
    "#from pyngrok import ngrok\n",
    "\n",
    "## Terminate open tunnels if exist\n",
    "#ngrok.kill()\n",
    "\n",
    "# Setting the authtoken (optional)\n",
    "# Get your authtoken from https://dashboard.ngrok.com/auth\n",
    "#NGROK_AUTH_TOKEN = \"\"\n",
    "#ngrok.set_auth_token(NGROK_AUTH_TOKEN)\n",
    "\n",
    "# Open an HTTPs tunnel on port 5000 for http://localhost:5000\n",
    "#public_url = ngrok.connect(port=\"5000\", proto=\"http\", options={\"bind_tls\": True})\n",
    "#print(\"Tracking URL:\", public_url)"
   ]
  }
 ],
 "metadata": {
  "accelerator": "GPU",
  "colab": {
   "name": "Untitled2.ipynb",
   "provenance": []
  },
  "kernelspec": {
   "display_name": "Python 3 (ipykernel)",
   "language": "python",
   "name": "python3"
  },
  "language_info": {
   "codemirror_mode": {
    "name": "ipython",
    "version": 3
   },
   "file_extension": ".py",
   "mimetype": "text/x-python",
   "name": "python",
   "nbconvert_exporter": "python",
   "pygments_lexer": "ipython3",
   "version": "3.8.12"
  }
 },
 "nbformat": 4,
 "nbformat_minor": 1
}
